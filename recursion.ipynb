{
 "cells": [
  {
   "cell_type": "markdown",
   "metadata": {},
   "source": [
    "# Factorial\n",
    "\n",
    "Basic factorial function checked against Python3's math.factorial."
   ]
  },
  {
   "cell_type": "code",
   "execution_count": null,
   "metadata": {},
   "outputs": [],
   "source": [
    "import math\n",
    "import random\n",
    "\n",
    "# naive recursion\n",
    "def factorial_naive(n):\n",
    "    if n == 0:\n",
    "        return 1\n",
    "    else:\n",
    "        return n * factorial_naive(n-1)\n",
    "    \n",
    "# memoized recursion\n",
    "memo = {0:1}\n",
    "def factorial_memo(n):\n",
    "    if n not in memo.keys():\n",
    "        # add to memory\n",
    "        memo[n] = n * factorial_memo(n-1)\n",
    "    \n",
    "    # return factorial of n no matter what case\n",
    "    return memo[n]\n",
    "    \n",
    "\n",
    "def test():\n",
    "    # check 5 random numbers for correct factorial\n",
    "    testcases = random.sample(range(1,100), 5)\n",
    "    \n",
    "    # use actual python factorial to check against\n",
    "    factorialized_testcases = [math.factorial(i) for i in testcases]\n",
    "    \n",
    "    # test self-written functions\n",
    "    naive = [factorial_naive(i) for i in testcases]\n",
    "    memo = [factorial_memo(i) for i in testcases]\n",
    "    \n",
    "    if (naive == factorialized_testcases):\n",
    "        print(\"Naive solution: PASS\")\n",
    "    if (memo == factorialized_testcases):\n",
    "        print(\"Memoized solution: PASS\")\n",
    "\n",
    "test()"
   ]
  },
  {
   "cell_type": "markdown",
   "metadata": {},
   "source": [
    "# English Ruler\n"
   ]
  },
  {
   "cell_type": "code",
   "execution_count": null,
   "metadata": {},
   "outputs": [],
   "source": [
    "import random\n",
    "\n",
    "def draw_line(tick_length, tick_label=''):\n",
    "    \"\"\"Draw one line with given tick length (followed by optional label).\"\"\"\n",
    "    line = '-' * tick_length\n",
    "    if tick_label:\n",
    "        line += ' ' + tick_label\n",
    "    print(line)\n",
    "    \n",
    "def draw_interval(center_length):\n",
    "    \"\"\"Draws tick interval based on a central tick length.\"\"\"\n",
    "    if center_length > 0:\n",
    "        draw_interval(center_length-1)\n",
    "        draw_line(center_length)\n",
    "        draw_interval(center_length-1)\n",
    "\n",
    "def draw_ruler(num_inches, major_length):\n",
    "    \"\"\"Draws English ruler with given number of inches and major tick length.\"\"\"\n",
    "    draw_line(major_length,'0')\n",
    "    for j in range(1,num_inches+1):\n",
    "        draw_interval(major_length-1)\n",
    "        draw_line(major_length,str(j))\n",
    "        \n",
    "draw_ruler(random.randint(1,10), random.randint(1,4))"
   ]
  },
  {
   "cell_type": "markdown",
   "metadata": {},
   "source": [
    "# Binary Search"
   ]
  },
  {
   "cell_type": "code",
   "execution_count": null,
   "metadata": {},
   "outputs": [],
   "source": [
    "\n",
    "def binary_search(data, target, low, high):\n",
    "    \"\"\" Return True if target is found in data[low:high].\n",
    "    Tail recusion. O(n^2).\n",
    "    \"\"\"\n",
    "    if low > high:\n",
    "        return False\n",
    "    else:\n",
    "        mid = (low + high) // 2\n",
    "        if target == data[mid]:\n",
    "            return True\n",
    "        elif target < data[mid]:\n",
    "            return binary_search(data, target, low, mid-1)\n",
    "        else:\n",
    "            return binary_search(data, target, mid+1, high)\n",
    "        \n",
    "def binary_search(data, target, low, high):\n",
    "    \"\"\"Return True if target is found in data[low:high].\n",
    "    Memoized. O(??)\n",
    "    \"\"\"\n",
    "    if low > high:\n",
    "        return False\n",
    "    else:\n",
    "        mid = (low + high) // 2\n",
    "        if target == data[mid]:\n",
    "            return True\n",
    "        elif target < data[mid]:\n",
    "            return binary_search(data, target, low, mid-1)\n",
    "        else:\n",
    "            return binary_search(data, target, mid+1, high)"
   ]
  },
  {
   "cell_type": "markdown",
   "metadata": {},
   "source": [
    "# Exercise: nth Harmonic\n",
    "\n",
    "R-4.6 Describe a recursive function for computing the nth Harmonic number, ![H_n formula](https://i.imgur.com/JlVNvC2.png)\n"
   ]
  },
  {
   "cell_type": "code",
   "execution_count": null,
   "metadata": {},
   "outputs": [],
   "source": [
    "def nth_harmonic(n):\n",
    "    \n",
    "    if n == 1:\n",
    "        return 1\n",
    "    else:\n",
    "        return (1/n) + nth_harmonic(n-1))"
   ]
  }
 ],
 "metadata": {
  "kernelspec": {
   "display_name": "Python 3",
   "language": "python",
   "name": "python3"
  },
  "language_info": {
   "codemirror_mode": {
    "name": "ipython",
    "version": 3
   },
   "file_extension": ".py",
   "mimetype": "text/x-python",
   "name": "python",
   "nbconvert_exporter": "python",
   "pygments_lexer": "ipython3",
   "version": "3.6.1"
  }
 },
 "nbformat": 4,
 "nbformat_minor": 2
}
